{
 "cells": [
  {
   "cell_type": "code",
   "execution_count": 8,
   "metadata": {
    "scrolled": false
   },
   "outputs": [],
   "source": [
    "# 測試一次爬新北 台北 花蓮\n",
    "\n",
    "import requests\n",
    "from bs4 import BeautifulSoup\n",
    "from fake_useragent import UserAgent\n",
    "import json\n",
    "import pandas as pd\n",
    "\n",
    "ua = UserAgent()\n",
    "headers = {\"User-Agent\":ua.random}\n",
    "\n",
    "result = []\n",
    "last_pages = []\n",
    "\n",
    "Taipei = []\n",
    "NewTaipei = []\n",
    "Hualien = []\n",
    "# 台北市:3 新北市:4 花蓮縣:22\n",
    "for i in [3,4,22]:\n",
    "    data = {\"q\": \"2^1^\"+str(i)+\"^^^^^^^^^^^^^^0^^9^1^1^0\"}\n",
    "    url = \"https://www.hbhousing.com.tw/ajax/dataService.aspx?job=search&path=house\"\n",
    "    res = requests.post(url,data=data,headers=headers)\n",
    "    soup = BeautifulSoup(res.content)\n",
    "    last_pages.append(json.loads(soup.text)[\"a\"])\n",
    "\n",
    "for city,p in zip([3,4,22],last_pages):\n",
    "    Name = []\n",
    "    Address = []\n",
    "    prices = []\n",
    "    Year = []\n",
    "    Area = []\n",
    "    Pattern = []\n",
    "    land = []\n",
    "    for page in range(1,p):\n",
    "        data = {\"q\": \"2^1^\"+str(city)+\"^^^^^^^^^^^^^^0^^9^1^\"+str(page)+\"^0\"}\n",
    "        url = \"https://www.hbhousing.com.tw/ajax/dataService.aspx?job=search&path=house\"\n",
    "        res = requests.post(url,data=data,headers=headers)\n",
    "        soup = BeautifulSoup(res.content)\n",
    "\n",
    "        for i in json.loads(soup.text)['data']:\n",
    "            Name.append(i['n'])\n",
    "            Address.append(i['x'])\n",
    "            prices.append(i['np'])\n",
    "            Year.append(i['k'])\n",
    "            Area.append(i['a'])\n",
    "        for i in json.loads(soup.text)['data']:\n",
    "            if type(i['p']) == list:\n",
    "                Pattern.append(i['p'][0]+\"房\"+i['p'][1]+\"廳\"+i['p'][2]+\"衛\")\n",
    "            elif i['p'] == \"車位\":\n",
    "                Pattern.append(i['p'])\n",
    "            else:\n",
    "                Pattern.append(\"未知的東西\") \n",
    "        for i in range(len(Name)):\n",
    "            if city == 3:\n",
    "                land.append(\"台北市\")\n",
    "            elif city == 4:\n",
    "                land.append(\"新北市\")\n",
    "            else:\n",
    "                land.append(\"花蓮縣\")\n",
    "\n",
    "    if city == 3:    \n",
    "        for i in range(len(Name)):\n",
    "            Taipei.append({\"Name\":Name[i],\"Address\":Address[i],\"Price\":prices[i],\"Year\":Year[i],\"Area\":Area[i],\"Pattern\":Pattern[i],\"Store\":\"住商不動產\",\"Land\":land[i]})\n",
    "    elif city == 4:\n",
    "        for i in range(len(Name)):\n",
    "            NewTaipei.append({\"Name\":Name[i],\"Address\":Address[i],\"Price\":prices[i],\"Year\":Year[i],\"Area\":Area[i],\"Pattern\":Pattern[i],\"Store\":\"住商不動產\",\"Land\":land[i]})\n",
    "    else:\n",
    "        for i in range(len(Name)):\n",
    "            Hualien.append({\"Name\":Name[i],\"Address\":Address[i],\"Price\":prices[i],\"Year\":Year[i],\"Area\":Area[i],\"Pattern\":Pattern[i],\"Store\":\"住商不動產\",\"Land\":land[i]})\n",
    "            \n",
    "df_Taipei = pd.DataFrame(Taipei)\n",
    "df_Taipei.to_csv(\"Taipei.csv\",encoding=\"utf_8_sig\")\n",
    "\n",
    "df_NewTaipei = pd.DataFrame(NewTaipei)\n",
    "df_NewTaipei.to_csv(\"NewTaipei.csv\",encoding=\"utf_8_sig\")\n",
    "\n",
    "df_Hualien = pd.DataFrame(Hualien)\n",
    "df_Hualien.to_csv(\"Hualien.csv\",encoding=\"utf_8_sig\")"
   ]
  },
  {
   "cell_type": "code",
   "execution_count": 10,
   "metadata": {},
   "outputs": [
    {
     "name": "stdout",
     "output_type": "stream",
     "text": [
      "縣市頁數 [548, 1084, 95]\n",
      "台北筆數: 5470\n",
      "新北筆數: 10830\n",
      "花蓮筆數 940\n"
     ]
    }
   ],
   "source": [
    "print(\"縣市頁數\",last_pages)\n",
    "print(\"台北筆數:\",len(Taipei))\n",
    "print(\"新北筆數:\",len(NewTaipei))\n",
    "print(\"花蓮筆數\",len(Hualien))"
   ]
  }
 ],
 "metadata": {
  "kernelspec": {
   "display_name": "Python 3",
   "language": "python",
   "name": "python3"
  },
  "language_info": {
   "codemirror_mode": {
    "name": "ipython",
    "version": 3
   },
   "file_extension": ".py",
   "mimetype": "text/x-python",
   "name": "python",
   "nbconvert_exporter": "python",
   "pygments_lexer": "ipython3",
   "version": "3.7.3"
  }
 },
 "nbformat": 4,
 "nbformat_minor": 2
}
