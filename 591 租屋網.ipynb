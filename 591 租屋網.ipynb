{
 "cells": [
  {
   "cell_type": "code",
   "execution_count": 1,
   "metadata": {},
   "outputs": [],
   "source": [
    "# 591 房屋交易網\n",
    "\n",
    "import requests\n",
    "from fake_useragent import UserAgent\n",
    "import json\n",
    "\n",
    "Name = []\n",
    "Address = []\n",
    "Price = []\n",
    "Area = []\n",
    "Room = []\n",
    "result = []\n",
    "ua = UserAgent()\n",
    "\n",
    "# 用while迴圈硬跑所有page\n",
    "j = 1\n",
    "while j < 40:\n",
    "    \n",
    "# User-Agent 模擬瀏覽器\n",
    "    headers = {\"User-Agent\":ua.random}\n",
    "    url = \"https://newhouse.591.com.tw/home/housing/search?rid=1&sid=&keyword=&page=\"+str(j)\n",
    "    res = requests.get(url,headers=headers)\n",
    "    \n",
    "# 用json方式取值\n",
    "    data = json.loads(res.text)\n",
    "    newdata = data['data']['items']\n",
    "\n",
    "# 主要爬蟲程式\n",
    "    for i in newdata:\n",
    "        Name.append(i['build_name'])\n",
    "\n",
    "    for i in newdata:\n",
    "        Address.append(i['address'])\n",
    "\n",
    "    for i in newdata:\n",
    "        Price.append(i['price'])\n",
    "\n",
    "    for i in newdata:\n",
    "        Area.append(i['area'])\n",
    "\n",
    "    for i in newdata:\n",
    "        Room.append(i['room'])     \n",
    "    j+=1\n",
    "\n",
    "# 組合\n",
    "for i in range(len(Name)):\n",
    "    result.append({\"Name\":Name[i],\"Address\":Address[i],\"Price\":Price[i],\"Area\":Area[i],\"Room\":Room[i]})\n",
    "\n",
    "\n",
    "\n",
    "\n"
   ]
  },
  {
   "cell_type": "code",
   "execution_count": null,
   "metadata": {},
   "outputs": [],
   "source": []
  }
 ],
 "metadata": {
  "kernelspec": {
   "display_name": "Python 3",
   "language": "python",
   "name": "python3"
  },
  "language_info": {
   "codemirror_mode": {
    "name": "ipython",
    "version": 3
   },
   "file_extension": ".py",
   "mimetype": "text/x-python",
   "name": "python",
   "nbconvert_exporter": "python",
   "pygments_lexer": "ipython3",
   "version": "3.7.3"
  }
 },
 "nbformat": 4,
 "nbformat_minor": 2
}

